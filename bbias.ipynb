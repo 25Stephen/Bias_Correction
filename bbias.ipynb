{
 "cells": [
  {
   "cell_type": "code",
   "execution_count": 1,
   "id": "fcd43dfc-fe48-4d8f-a24e-2db7ae50fb6c",
   "metadata": {},
   "outputs": [
    {
     "name": "stderr",
     "output_type": "stream",
     "text": [
      "/home/kenz/miniconda3/lib/python3.10/site-packages/xclim/indices/fire/_cffwis.py:207: NumbaDeprecationWarning: \u001b[1mThe 'nopython' keyword argument was not supplied to the 'numba.jit' decorator. The implicit default value for this argument is currently False, but it will be changed to True in Numba 0.59.0. See https://numba.readthedocs.io/en/stable/reference/deprecation.html#deprecation-of-object-mode-fall-back-behaviour-when-using-jit for details.\u001b[0m\n",
      "  def _day_length(lat: int | float, mth: int):  # pragma: no cover\n",
      "/home/kenz/miniconda3/lib/python3.10/site-packages/xclim/indices/fire/_cffwis.py:227: NumbaDeprecationWarning: \u001b[1mThe 'nopython' keyword argument was not supplied to the 'numba.jit' decorator. The implicit default value for this argument is currently False, but it will be changed to True in Numba 0.59.0. See https://numba.readthedocs.io/en/stable/reference/deprecation.html#deprecation-of-object-mode-fall-back-behaviour-when-using-jit for details.\u001b[0m\n",
      "  def _day_length_factor(lat: float, mth: int):  # pragma: no cover\n"
     ]
    }
   ],
   "source": [
    "from __future__ import annotations\n",
    "from xclim import sdba\n",
    "import cftime\n",
    "import matplotlib.pyplot as plt\n",
    "import nc_time_axis\n",
    "import numpy as np\n",
    "import xarray as xr\n",
    "import warnings\n",
    "warnings.filterwarnings('ignore')\n",
    "\n",
    "\n",
    "# var = str(input('tasmax or precip, '))\n",
    "var = 'tasmax'\n",
    "\n",
    "ds = xr.open_dataset('out.nc')\n",
    "ds = ds.rename({'mx2t':'tasmax'})\n",
    "\n",
    "w = []\n",
    "for i in ds.lat.values:\n",
    "    w.append(i[1])\n",
    "    \n",
    "ds = ds.drop_vars('y').drop_vars('x')\n",
    "ds.coords['y']=w\n",
    "ds.coords['x']=ds.lon.values[1]\n",
    "ds = ds[var].drop_vars('lon').drop_vars('lat')\n",
    "ds = ds.rename({'x':'lon', 'y':'lat'})\n",
    "\n",
    "# ds = xr.open_dataset('Ghana_ERA5_dTx_1981_2020.nc')\n",
    "# ds = ds.rename({'mx2t':'tasmax', 'longitude':'lon', 'latitude':'lat'})\n",
    "# ds_t = (ds_tn + ds_tn)/2\n",
    "rcp26 = xr.open_dataset('tasmax_GHA-22_MOHC-HadGEM2-ES_rcp26_r1i1p1_ICTP-RegCM4-7_v0_day_20060101-20991230.nc')\n",
    "rcp85 = xr.open_dataset('tasmax_GHA-22_MOHC-HadGEM2-ES_rcp85_r1i1p1_ICTP-RegCM4-7_v0_day_20060101-20991230.nc')\n",
    "hist = xr.open_dataset('tasmax_GHA-22_MOHC-HadGEM2-ES_historical_r1i1p1_ICTP-RegCM4-7_v0_day_19710101-20041230.nc')\n",
    "\n",
    "# var = 'tasmax'\n",
    "v = []\n",
    "for i in hist.lat.values:\n",
    "    v.append(i[1])\n",
    "    \n",
    "def pro_data(data):\n",
    "    hist = data.drop_vars('y').drop_vars('x')\n",
    "    # ds_rcp = ds_rcp.drop_vars('lon').drop_vars('lat')\n",
    "    hist.coords['y']=v\n",
    "    hist.coords['x']=hist.lon.values[1]\n",
    "    hist = hist[var].drop_vars('lon').drop_vars('lat')\n",
    "    hist = hist.rename({'x':'lon', 'y':'lat'})\n",
    "    return(hist)\n",
    "\n",
    "rcp26=pro_data(rcp26)\n",
    "rcp85=pro_data(rcp85)\n",
    "\n",
    "hist=pro_data(hist)\n",
    "\n",
    "#set extent\n",
    "wesn = [-3, 1.5, 5, 12]\n",
    "   \n",
    "if var == 'precip':\n",
    "    ds_meas_flt = ds.sel(time=~((ds.time.dt.dayofyear == 366)))[var]\n",
    "else:\n",
    "    ds_meas_flt = ds.sel(time=~((ds.time.dt.dayofyear == 366)))+273.13\n",
    "\n",
    "#Filter data\n",
    "#############################################################################################################\n",
    "ds_meas_flt = ds_meas_flt.sel(lon = slice(wesn[0], wesn[1]), lat = slice(wesn[2], wesn[3]))\n",
    "\n",
    "# ds_meas_flt = ds_meas_flt.convert_calendar('360_day', align_on = 'date' , use_cftime=True)\n",
    "\n",
    "ds_hist_flt = hist.sel(lon = slice(wesn[0], wesn[1]), lat = slice(wesn[2], wesn[3]))\n",
    "# ds_hist_flt = ds_his_flt.convert_calendar('proleptic_gregorian',align_on='year')\n",
    "\n",
    "# ds_hist_flt = ds_hist.sel(time=~((ds_hist.time.dt.month == 2) & (ds_hist.time.dt.day == 29)))\n",
    "ds_rcp_flt_26 = rcp26.sel(lon = slice(wesn[0], wesn[1]), lat = slice(wesn[2], wesn[3]))\n",
    "# ds_rcp_flt_26 = ds_rcp_flt_26.convert_calendar('proleptic_gregorian',align_on='year')\n",
    "\n",
    "ds_rcp_flt_85 = rcp85.sel(lon = slice(wesn[0], wesn[1]), lat = slice(wesn[2], wesn[3]))\n",
    "\n",
    "#Allign time\n",
    "############################################################################################################\n",
    "\n",
    "################### Here we have the fuctions used for computations ##############################3\n",
    "\n",
    "###This funtion coverts the data into a standard date time\n",
    "def _cfnoleap_to_datetime(da):\n",
    "    da_std = da.convert_calendar(\"standard\", use_cftime=True, align_on='year')\n",
    "    datetimeindex = da_std.indexes['time'].to_datetimeindex()\n",
    "    ds = da#.to_dataset()\n",
    "    ds['time_dt']= ('time', datetimeindex)\n",
    "    ds = ds.swap_dims({'time': 'time_dt'})\n",
    "    assert len(da.time) == len(ds.time_dt)\n",
    "    return ds\n",
    "\n",
    "\n",
    "# if var == 'precip':\n",
    "#     ds_hist_dt = _cfnoleap_to_datetime(ds_hist_flt)*86400\n",
    "#     ds_rcp_dt = _cfnoleap_to_datetime(ds_rcp_flt)*86400\n",
    "# else:\n",
    "#     ds_hist_dt = _cfnoleap_to_datetime(ds_hist_flt)\n",
    "#     ds_rcp_dt = _cfnoleap_to_datetime(ds_rcp_flt)\n",
    "if var == 'precip':\n",
    "    ds_hist_dt = _cfnoleap_to_datetime(ds_hist_flt)*86400\n",
    "    ds_rcp_dt_26 = _cfnoleap_to_datetime(ds_rcp_flt_26)*86400\n",
    "    ds_rcp_dt_85 = _cfnoleap_to_datetime(ds_rcp_flt_85)*86400\n",
    "\n",
    "else:\n",
    "    ds_hist_dt = _cfnoleap_to_datetime(ds_hist_flt)\n",
    "    ds_rcp_dt_26 = _cfnoleap_to_datetime(ds_rcp_flt_26)\n",
    "    ds_rcp_dt_85 = _cfnoleap_to_datetime(ds_rcp_flt_85)\n",
    "##################################################################################################################\n",
    "\n",
    "# ############################# Preprocess the dataset to suit the model ####################################\n",
    "\n",
    "ref = ds_meas_flt\n",
    "ref.attrs['units']='K'\n",
    "    \n",
    "rcp26 = ds_rcp_dt_26.drop_vars('time').rename({'time_dt':'time'})\n",
    "rcp26.attrs['units']='K'\n",
    "\n",
    "rcp85 = ds_rcp_dt_85.drop_vars('time').rename({'time_dt':'time'}).sel(time=slice('2023','2100'))\n",
    "rcp85.attrs['units']='K'\n",
    "\n",
    "hist_mod = ds_hist_dt.drop_vars('time').rename({'time_dt':'time'})\n",
    "hist_mod.attrs['units']='K'\n",
    "\n",
    "hist_r_add=rcp26.sel(time=slice('2022'))\n",
    "hist_mod = xr.combine_by_coords([hist_r_add,hist_mod])[var]\n",
    "\n",
    "rcp26=rcp26.sel(time=slice('2023','2100'))\n",
    "\n",
    "QM = sdba.EmpiricalQuantileMapping.train(\n",
    "    ref, hist_mod, nquantiles=15, group=\"time\", kind=\"+\"\n",
    ")\n",
    "scen = QM.adjust(rcp26, extrapolation=\"constant\", interp=\"nearest\")\n",
    "\n",
    "rcp26_data = QM.adjust(rcp26, extrapolation=\"constant\", interp=\"nearest\")\n",
    "\n",
    "rcp85_data = QM.adjust(rcp85, extrapolation=\"constant\", interp=\"nearest\")\n"
   ]
  },
  {
   "cell_type": "code",
   "execution_count": null,
   "id": "05ce89dc-896d-4b5c-be52-8cd439deaaa0",
   "metadata": {},
   "outputs": [],
   "source": []
  },
  {
   "cell_type": "code",
   "execution_count": null,
   "id": "9bc69dc1-998a-4b06-a457-4da605033c05",
   "metadata": {},
   "outputs": [],
   "source": []
  },
  {
   "cell_type": "code",
   "execution_count": null,
   "id": "bf47c09e-f43b-4452-8860-71be075e5455",
   "metadata": {},
   "outputs": [],
   "source": []
  },
  {
   "cell_type": "code",
   "execution_count": null,
   "id": "85f7229a-7d70-44b1-9ad0-c7b8d54fb2e9",
   "metadata": {},
   "outputs": [],
   "source": []
  },
  {
   "cell_type": "code",
   "execution_count": null,
   "id": "2866dafc-f164-4579-aa27-a5c63750bb5e",
   "metadata": {},
   "outputs": [],
   "source": []
  },
  {
   "cell_type": "code",
   "execution_count": null,
   "id": "fbe8ac4b-1971-482c-9b56-0e092f8e51e1",
   "metadata": {},
   "outputs": [],
   "source": []
  },
  {
   "cell_type": "code",
   "execution_count": null,
   "id": "46477a6d-c30e-4b5b-b2ff-f9970840f8cc",
   "metadata": {},
   "outputs": [],
   "source": []
  },
  {
   "cell_type": "code",
   "execution_count": null,
   "id": "360c1128-09b6-49ba-949b-8f6b0953dbb7",
   "metadata": {},
   "outputs": [],
   "source": []
  },
  {
   "cell_type": "code",
   "execution_count": null,
   "id": "caa76358-c943-4abb-b047-1d7a9b36fd21",
   "metadata": {},
   "outputs": [],
   "source": []
  },
  {
   "cell_type": "code",
   "execution_count": null,
   "id": "22f49f5c-717d-4de7-8739-c13877f1c136",
   "metadata": {},
   "outputs": [],
   "source": []
  },
  {
   "cell_type": "code",
   "execution_count": null,
   "id": "5d0a9e6f-8b9f-486e-b9d8-6ca880ee6a37",
   "metadata": {},
   "outputs": [],
   "source": []
  },
  {
   "cell_type": "code",
   "execution_count": null,
   "id": "7db459d8-00fd-447c-9581-0e7e6f5989b4",
   "metadata": {},
   "outputs": [],
   "source": []
  },
  {
   "cell_type": "code",
   "execution_count": null,
   "id": "af66cb26-585d-4833-99be-e80bd7e20471",
   "metadata": {},
   "outputs": [],
   "source": []
  },
  {
   "cell_type": "code",
   "execution_count": null,
   "id": "d0aedc41-138d-445f-82bb-b3e1fa4c99d6",
   "metadata": {},
   "outputs": [],
   "source": []
  },
  {
   "cell_type": "code",
   "execution_count": null,
   "id": "85b0a46a-45af-4873-bc68-8952e9006a55",
   "metadata": {},
   "outputs": [],
   "source": []
  },
  {
   "cell_type": "code",
   "execution_count": null,
   "id": "0a0781eb-011c-44eb-b369-c22fc2ea0db3",
   "metadata": {},
   "outputs": [],
   "source": []
  },
  {
   "cell_type": "code",
   "execution_count": null,
   "id": "04794144-d1eb-46bb-a2cd-def766157f40",
   "metadata": {},
   "outputs": [],
   "source": []
  },
  {
   "cell_type": "code",
   "execution_count": null,
   "id": "e0700754-9b6f-437f-82b5-bbef971c555e",
   "metadata": {},
   "outputs": [],
   "source": []
  },
  {
   "cell_type": "code",
   "execution_count": null,
   "id": "d396518c-984f-4498-859b-ebe021f8477e",
   "metadata": {},
   "outputs": [],
   "source": []
  },
  {
   "cell_type": "code",
   "execution_count": null,
   "id": "1de6ef08-6c46-40ab-b2d0-d32bd8530283",
   "metadata": {},
   "outputs": [],
   "source": []
  },
  {
   "cell_type": "code",
   "execution_count": null,
   "id": "001d26b3-1aa1-411e-b44c-71fbc71e4d90",
   "metadata": {},
   "outputs": [],
   "source": []
  },
  {
   "cell_type": "code",
   "execution_count": null,
   "id": "83bb2c59-a2b9-48fc-8a70-fb3fcacfd822",
   "metadata": {},
   "outputs": [],
   "source": []
  },
  {
   "cell_type": "code",
   "execution_count": null,
   "id": "5b213225-29c1-4b93-af9d-a4547b45202e",
   "metadata": {},
   "outputs": [],
   "source": []
  },
  {
   "cell_type": "code",
   "execution_count": null,
   "id": "3505f408-2c20-480b-a6f6-7306452f696b",
   "metadata": {},
   "outputs": [],
   "source": []
  },
  {
   "cell_type": "code",
   "execution_count": null,
   "id": "09f2a1f6-ad8e-42a0-b15d-2016426cd27d",
   "metadata": {},
   "outputs": [],
   "source": []
  },
  {
   "cell_type": "code",
   "execution_count": null,
   "id": "eef5d6da-1a74-4ef9-b87a-14488303d54a",
   "metadata": {},
   "outputs": [],
   "source": []
  },
  {
   "cell_type": "code",
   "execution_count": null,
   "id": "49acd5fb-c336-4c04-be57-d2581d4aab02",
   "metadata": {},
   "outputs": [],
   "source": []
  },
  {
   "cell_type": "code",
   "execution_count": null,
   "id": "dcae02de-ffd8-4faa-9e27-78ac381bf3f6",
   "metadata": {},
   "outputs": [],
   "source": [
    "import xarray as xr"
   ]
  },
  {
   "cell_type": "code",
   "execution_count": null,
   "id": "0f40aa2e-ad61-4316-9030-ac95134cf4d5",
   "metadata": {},
   "outputs": [],
   "source": [
    "xr.open_dataset('obs.nc')"
   ]
  },
  {
   "cell_type": "code",
   "execution_count": null,
   "id": "e22d9325-d1aa-426c-b42c-99b1302059bd",
   "metadata": {},
   "outputs": [],
   "source": [
    "xr.open_dataset('Era_5_obs.nc')"
   ]
  }
 ],
 "metadata": {
  "kernelspec": {
   "display_name": "Python 3 (ipykernel)",
   "language": "python",
   "name": "python3"
  },
  "language_info": {
   "codemirror_mode": {
    "name": "ipython",
    "version": 3
   },
   "file_extension": ".py",
   "mimetype": "text/x-python",
   "name": "python",
   "nbconvert_exporter": "python",
   "pygments_lexer": "ipython3",
   "version": "3.10.8"
  }
 },
 "nbformat": 4,
 "nbformat_minor": 5
}
